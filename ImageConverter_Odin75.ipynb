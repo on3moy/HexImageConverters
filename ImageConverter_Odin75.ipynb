{
 "cells": [
  {
   "cell_type": "code",
   "execution_count": 1,
   "metadata": {},
   "outputs": [],
   "source": [
    "# All the imports you will need, go install them with pip install or conda.\n",
    "from PIL import Image, ImageOps\n",
    "import IPython.display as pydisplay\n",
    "import numpy as np"
   ]
  },
  {
   "attachments": {},
   "cell_type": "markdown",
   "metadata": {},
   "source": [
    "# Use below code to play with parameters to get desired output\n",
    "\n",
    "<img src=https://static.wikia.nocookie.net/02f3bab1-2d55-4baf-8c52-47fa95d694b1/scale-to-width/370>"
   ]
  },
  {
   "attachments": {},
   "cell_type": "markdown",
   "metadata": {},
   "source": [
    "# Parameter Description\n",
    "- gif_path = Path of your gif image\n",
    "- output = rename to whatever file name you want or keep as is\n",
    "- write = Dont touch, it allows you to create a file in write mode\n",
    "- threshold = Play around to for better black and white image\n",
    "- oled_width = Dont touch, default screen size\n",
    "- oled_height = Dont touch, default screen size\n",
    "- scale = Play around to enlarge or make your image smaller\n",
    "- offset = Change coordinates to position your gif file in a 128 x 64 px frame\n",
    "- duration = duration of each frame in ms. "
   ]
  },
  {
   "cell_type": "code",
   "execution_count": 2,
   "metadata": {},
   "outputs": [],
   "source": [
    "# Parameters\n",
    "# To make life easier, just add the image to same folder this .ipynb file is at.\n",
    "gif_path = 'Sample/pikawalk.gif'\n",
    "output = 'output.hex'\n",
    "write = 'w'\n",
    "threshold = 210\n",
    "oled_width = 128\n",
    "oled_height = 64\n",
    "scale = .15\n",
    "offset = ((15,-5))\n",
    "duration = 30"
   ]
  },
  {
   "attachments": {},
   "cell_type": "markdown",
   "metadata": {},
   "source": [
    "Create a Black and White (BW) Gif and save it to preview your modifications"
   ]
  },
  {
   "cell_type": "code",
   "execution_count": 3,
   "metadata": {},
   "outputs": [
    {
     "data": {
      "image/gif": "[encoded data removed]",
      "text/plain": [
       "<IPython.core.display.Image object>"
      ]
     },
     "metadata": {},
     "output_type": "display_data"
    }
   ],
   "source": [
    "'''\n",
    "Open your gif file, interates through each frame, resize by scale, convert to grayscale, \n",
    "convert to either black or white depending on threshold, create a new 128 x 64 image and paste \n",
    "your rescaled image and move or offset the gif picture to preferred location.\n",
    "'''\n",
    "with Image.open(gif_path) as im:\n",
    "    frames = []\n",
    "    for i in range(im.n_frames):\n",
    "        im.seek(i)\n",
    "        resized_im = im.resize((int(im.width * scale),int(im.height * scale)),resample=Image.Resampling.BILINEAR)\n",
    "        bw_im = resized_im.convert('L').point(lambda x: 0 if x < threshold else 255)\n",
    "        newImage = Image.new(mode='L',size=(oled_width,oled_height), color='white') # Change to black or white to better fit image\n",
    "        newImage.paste(bw_im, offset)\n",
    "        newImage = ImageOps.invert(newImage) # Comment Invert out depending on background\n",
    "        frames.append(newImage)\n",
    "    # For some reason, frame 0 always gets inverted, therefore it is removed\n",
    "    frames[1].save('output.gif', save_all=True, append_images=frames[2:], duration=duration, loop=0)\n",
    "    # Displays the animated GIF below\n",
    "    pydisplay.display(pydisplay.Image('output.gif'))"
   ]
  },
  {
   "cell_type": "code",
   "execution_count": 4,
   "metadata": {},
   "outputs": [
    {
     "data": {
      "image/png": "[encoded data removed]",
      "text/plain": [
       "<PIL.Image.Image image mode=L size=128x64>"
      ]
     },
     "execution_count": 4,
     "metadata": {},
     "output_type": "execute_result"
    }
   ],
   "source": [
    "# Preview of a frame, specifically frame 1 since we start our numbering or indexing at 0\n",
    "# Example of 5 frames will be --> 0, 1, 2, 3, 4 which totals 5\n",
    "frames[1]"
   ]
  },
  {
   "attachments": {},
   "cell_type": "markdown",
   "metadata": {},
   "source": [
    "We are now going to interate through each frame, grab its pixel data, convert to byte information, and then create a hex file for each frame to paste code for QMK."
   ]
  },
  {
   "attachments": {},
   "cell_type": "markdown",
   "metadata": {},
   "source": [
    "This is the meat and potatoes of the code. This took the longest to figure out. This code takes each pixel within your image/frame and combines 8 bits or pixels together to make a byte in order for your LED screen to read."
   ]
  },
  {
   "cell_type": "code",
   "execution_count": 5,
   "metadata": {},
   "outputs": [],
   "source": [
    "# Put each frame converted to bytes and transformed into a list\n",
    "byte_frames = []\n",
    "for frame in frames:\n",
    "    # Flip Image\n",
    "    frame_t = frame.transpose(4)\n",
    "    # Create empty byte list\n",
    "    bytes = bytearray()\n",
    "    # Count how many bits you go through\n",
    "    byte_counter = 0\n",
    "    # Iterate through pixels in each frame\n",
    "    for y in range(oled_width):\n",
    "        # Placeholder to hold 8 bits, then converted to byte\n",
    "        rowstring = ''\n",
    "        for x in range(oled_height):\n",
    "            # Get pixel information from coordinate\n",
    "            framepixel = frame_t.getpixel((x,y))\n",
    "            # Convert either 0 or 255 colors to 1 or 0 bit information\n",
    "            if byte_counter <= 6:\n",
    "                if framepixel == 255:\n",
    "                    rowstring += '1'\n",
    "                elif framepixel == 0:\n",
    "                    rowstring += '0'\n",
    "                byte_counter += 1\n",
    "            else:\n",
    "                if framepixel == 255:\n",
    "                    rowstring += '1'\n",
    "                elif framepixel == 0:\n",
    "                    rowstring += '0'\n",
    "                byte_counter = 0\n",
    "                # Add accumulated 8 bits into byte array\n",
    "                bytes.append(int(rowstring,2))\n",
    "                rowstring =''\n",
    "    # Get bytes and convert to numpy array to transform in matrix and convert to hex format\n",
    "    bytes_modified = np.array([f'0x{byte:02x}' for byte in bytes][:-8])\n",
    "    # Transform and reshape array\n",
    "    bytes_modified = np.flip(np.rot90(bytes_modified.reshape(127,8).transpose(), k=2), axis=1)\n",
    "    # Save newly transformed frame into bytes and add to final list\n",
    "    byte_frames.append(bytes_modified)"
   ]
  },
  {
   "attachments": {},
   "cell_type": "markdown",
   "metadata": {},
   "source": [
    "Create a hex file to copy and paste and \"flash your drive\""
   ]
  },
  {
   "cell_type": "code",
   "execution_count": 6,
   "metadata": {},
   "outputs": [],
   "source": [
    "# All this code does is formats the way to see the code conveniently\n",
    "frame_counter = 1\n",
    "with open(output, write) as file:\n",
    "    for frame in byte_frames:\n",
    "        row_counter = 0\n",
    "        file.write('{//' + f'Frame Number: {frame_counter}\\n')\n",
    "        for row in frame:\n",
    "            row_counter += 1\n",
    "            for col in row:\n",
    "                file.write(col + ', ')\n",
    "            if row_counter != 8:\n",
    "                file.write(col + ',\\n')\n",
    "            else:\n",
    "                file.write(col + '\\n')\n",
    "                row_counter = 0\n",
    "        frame_counter += 1\n",
    "        if frame_counter == len(byte_frames) + 1:\n",
    "            file.write('}\\n')\n",
    "        else:\n",
    "            file.write('},\\n')"
   ]
  },
  {
   "cell_type": "code",
   "execution_count": 7,
   "metadata": {},
   "outputs": [
    {
     "name": "stdout",
     "output_type": "stream",
     "text": [
      "Total Number of Frames Created: 40\n"
     ]
    }
   ],
   "source": [
    "print(f'Total Number of Frames Created: {len(byte_frames)}')"
   ]
  },
  {
   "attachments": {},
   "cell_type": "markdown",
   "metadata": {},
   "source": [
    "# YOU DID IT\n",
    "High five yourself bud"
   ]
  },
  {
   "attachments": {},
   "cell_type": "markdown",
   "metadata": {},
   "source": [
    "<img src='https://media0.giphy.com/media/gVoBC0SuaHStq/200w.gif?cid=6c09b952kryrvy15bnz1vracln285bvdfoqfmugr2ic97yce&rid=200w.gif&ct=g'>"
   ]
  },
  {
   "attachments": {},
   "cell_type": "markdown",
   "metadata": {},
   "source": [
    "# Odin75 LED Screen Customization\n",
    "Now you can customize your OLED Screen :)  \n",
    "<img src=https://i.shgcdn.com/36ace757-dfe8-46be-8fe1-fe266be93c77/-/format/auto/-/preview/3000x3000/-/quality/best/ height=300>\n",
    "\n",
    "[Odin75 Website](https://kbdfans.com/products/kbdfans-odin-75-mechanical-keyboard)\n",
    "\n",
    "# Credits\n",
    "Drop a thank you if this made your life easier. It took a bit to automate and get to work.  \n",
    "**Discord**: Gloriouz #7360"
   ]
  },
  {
   "attachments": {},
   "cell_type": "markdown",
   "metadata": {},
   "source": [
    "df"
   ]
  }
 ],
 "metadata": {
  "kernelspec": {
   "display_name": "venv",
   "language": "python",
   "name": "python3"
  },
  "language_info": {
   "codemirror_mode": {
    "name": "ipython",
    "version": 3
   },
   "file_extension": ".py",
   "mimetype": "text/x-python",
   "name": "python",
   "nbconvert_exporter": "python",
   "pygments_lexer": "ipython3",
   "version": "3.11.1"
  },
  "orig_nbformat": 4,
  "vscode": {
   "interpreter": {
    "hash": "8a4e7661a9f2d7b12275c9a0af18cb9f0807ed2cad40f2f6f27ec234d5b20bff"
   }
  }
 },
 "nbformat": 4,
 "nbformat_minor": 2
}
